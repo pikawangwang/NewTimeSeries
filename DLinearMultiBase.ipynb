{
 "cells": [
  {
   "cell_type": "code",
   "execution_count": 1,
   "id": "dec68f55",
   "metadata": {},
   "outputs": [],
   "source": [
    "import pandas as pd\n",
    "from pytorch_lightning.callbacks import EarlyStopping, Callback, ModelCheckpoint\n",
    "from ray import tune\n",
    "from ray.tune import CLIReporter\n",
    "from ray import tune\n",
    "from ray import train\n",
    "from ray.tune.integration.pytorch_lightning import TuneReportCallback\n",
    "from ray.tune.schedulers import ASHAScheduler\n",
    "from torchmetrics import MeanAbsoluteError, MeanAbsolutePercentageError, MetricCollection\n",
    "from darts.dataprocessing.transformers import Scaler\n",
    "from darts.models import DLinearModel\n",
    "from darts import TimeSeries, concatenate\n",
    "from sklearn.preprocessing import MinMaxScaler, StandardScaler\n",
    "import matplotlib.pyplot as plt\n",
    "import tensorboard\n",
    "import os"
   ]
  },
  {
   "cell_type": "code",
   "execution_count": 2,
   "id": "40e93f78",
   "metadata": {},
   "outputs": [],
   "source": [
    "class LossLoggingCallback(Callback):\n",
    "    def __init__(self):\n",
    "        super().__init__()\n",
    "        self.val_losses = []  # To store validation losses\n",
    "        self.train_losses = []  # To store training losses\n",
    "\n",
    "    def on_validation_epoch_end(self, trainer, pl_module):\n",
    "        val_loss = trainer.callback_metrics[\"val_loss\"].item()\n",
    "        self.val_losses.append(val_loss)\n",
    "        print(f\"Epoch {trainer.current_epoch}: val_loss={val_loss}\")\n",
    "        train.report({\"loss\": val_loss})\n",
    "\n",
    "    def on_train_epoch_end(self, trainer, pl_module, unused=None):  # unused parameter for compatibility\n",
    "        # Assuming you have a metric named \"train_loss\" logged\n",
    "        if \"train_loss\" in trainer.callback_metrics:\n",
    "            train_loss = trainer.callback_metrics[\"train_loss\"].item()\n",
    "            self.train_losses.append(train_loss)\n",
    "            print(f\"Epoch {trainer.current_epoch}: train_loss={train_loss}\")"
   ]
  },
  {
   "cell_type": "code",
   "execution_count": 72,
   "id": "82d17e22",
   "metadata": {},
   "outputs": [
    {
     "name": "stderr",
     "output_type": "stream",
     "text": [
      "C:\\Users\\ian11\\AppData\\Local\\Temp\\ipykernel_7988\\292504794.py:29: SettingWithCopyWarning: \n",
      "A value is trying to be set on a copy of a slice from a DataFrame.\n",
      "Try using .loc[row_indexer,col_indexer] = value instead\n",
      "\n",
      "See the caveats in the documentation: https://pandas.pydata.org/pandas-docs/stable/user_guide/indexing.html#returning-a-view-versus-a-copy\n",
      "  train_df.loc[:, 'No_scaled'] = scaler.transform(train_df[['No']])\n",
      "C:\\Users\\ian11\\AppData\\Local\\Temp\\ipykernel_7988\\292504794.py:30: SettingWithCopyWarning: \n",
      "A value is trying to be set on a copy of a slice from a DataFrame.\n",
      "Try using .loc[row_indexer,col_indexer] = value instead\n",
      "\n",
      "See the caveats in the documentation: https://pandas.pydata.org/pandas-docs/stable/user_guide/indexing.html#returning-a-view-versus-a-copy\n",
      "  val_df.loc[:, 'No_scaled'] = scaler.transform(val_df[['No']])\n",
      "C:\\Users\\ian11\\AppData\\Local\\Temp\\ipykernel_7988\\292504794.py:31: SettingWithCopyWarning: \n",
      "A value is trying to be set on a copy of a slice from a DataFrame.\n",
      "Try using .loc[row_indexer,col_indexer] = value instead\n",
      "\n",
      "See the caveats in the documentation: https://pandas.pydata.org/pandas-docs/stable/user_guide/indexing.html#returning-a-view-versus-a-copy\n",
      "  test_df.loc[:, 'No_scaled'] = scaler.transform(test_df[['No']])  # 用相同的scaler转换测试集以避免数据泄露\n"
     ]
    }
   ],
   "source": [
    "df = pd.read_csv('EDvisitfileL.csv', encoding='ISO-8859-1')\n",
    "\n",
    "# 确保'date'列是DateTime类型\n",
    "df['date'] = pd.to_datetime(df['date'])\n",
    "df.set_index('date', inplace=True)\n",
    "df = df.rename(columns={'No_Linkou': 'No'})\n",
    "\n",
    "# 分割数据集为训练集、验证集和测试集（假设您已经根据时间排序）\n",
    "#train_proportion = 0.5\n",
    "#val_proportion = 0.3\n",
    "\n",
    "# Calculate the split indices\n",
    "total_length = len(df)\n",
    "train_end = 4374\n",
    "val_end = 4741\n",
    "#val_end = train_end + int(total_length * val_proportion)\n",
    "\n",
    "# Split the DataFrame\n",
    "train_df = df.iloc[:train_end]\n",
    "val_df = df.iloc[train_end:val_end]\n",
    "test_df = df.iloc[val_end:]\n",
    "\n",
    "# 步骤2: 使用MinMaxScaler缩放数据\n",
    "# 定义并拟合scaler\n",
    "scaler = MinMaxScaler()\n",
    "scaler.fit(train_df[['No']])  # 只用训练数据拟合scaler\n",
    "\n",
    "# 缩放训练集和验证集\n",
    "train_df.loc[:, 'No_scaled'] = scaler.transform(train_df[['No']])\n",
    "val_df.loc[:, 'No_scaled'] = scaler.transform(val_df[['No']])\n",
    "test_df.loc[:, 'No_scaled'] = scaler.transform(test_df[['No']])  # 用相同的scaler转换测试集以避免数据泄露\n",
    "\n",
    "train_series = TimeSeries.from_dataframe(train_df, value_cols='No_scaled' )\n",
    "val_series = TimeSeries.from_dataframe(val_df, value_cols='No_scaled' )\n",
    "test_series = TimeSeries.from_dataframe(test_df, value_cols='No_scaled' )\n",
    "\n",
    "# 原始数据转换为TimeSeries对象，如果需要\n",
    "train_series_origin = TimeSeries.from_dataframe(train_df, value_cols='No'  )\n",
    "val_series_origin = TimeSeries.from_dataframe(val_df, value_cols='No' )\n",
    "test_series_origin = TimeSeries.from_dataframe(test_df, value_cols='No' )\n",
    "\n",
    "# 选择需要的列创建多变量时间序列(都是one hot coding)\n",
    "columns = ['Dayoff', 'Mon', 'Tue', 'Wed', 'Thr', 'Fri', 'Sat', 'Sun',  'YearScaled',\n",
    "           'MonthScaled', 'Dayscaled', 'NewYear', '3Lock','Screening','COV19ThreadScaled']\n",
    "'''\n",
    "columns = ['Dayoff', 'Mon', 'Tue', 'Wed', 'Thr', 'Fri', 'Sat', 'Sun',  'YearScaled',\n",
    "           'MonthScaled', 'Dayscaled', 'NewYear', '3Lock', 'ConfirmedCases_scaled', 'Screening']\n",
    "'''\n",
    "df_multivariate = df[columns]\n",
    "# 将DataFrame转换为多变量时间序列\n",
    "ED_covariates = TimeSeries.from_dataframe(df_multivariate )"
   ]
  },
  {
   "cell_type": "code",
   "execution_count": 73,
   "id": "392c5858",
   "metadata": {},
   "outputs": [
    {
     "name": "stderr",
     "output_type": "stream",
     "text": [
      "GPU available: False, used: False\n",
      "TPU available: False, using: 0 TPU cores\n",
      "IPU available: False, using: 0 IPUs\n",
      "HPU available: False, using: 0 HPUs\n",
      "\n",
      "  | Name            | Type             | Params\n",
      "-----------------------------------------------------\n",
      "0 | criterion       | MSELoss          | 0     \n",
      "1 | train_metrics   | MetricCollection | 0     \n",
      "2 | val_metrics     | MetricCollection | 0     \n",
      "3 | decomposition   | _SeriesDecomp    | 0     \n",
      "4 | linear_seasonal | Linear           | 129 K \n",
      "5 | linear_trend    | Linear           | 129 K \n",
      "-----------------------------------------------------\n",
      "259 K     Trainable params\n",
      "0         Non-trainable params\n",
      "259 K     Total params\n",
      "1.038     Total estimated model params size (MB)\n"
     ]
    },
    {
     "data": {
      "application/vnd.jupyter.widget-view+json": {
       "model_id": "",
       "version_major": 2,
       "version_minor": 0
      },
      "text/plain": [
       "Sanity Checking: 0it [00:00, ?it/s]"
      ]
     },
     "metadata": {},
     "output_type": "display_data"
    },
    {
     "name": "stdout",
     "output_type": "stream",
     "text": [
      "Epoch 0: val_loss=0.10132969835547838\n"
     ]
    },
    {
     "data": {
      "application/vnd.jupyter.widget-view+json": {
       "model_id": "2db8fe52ccfa4adb90dc680508819bd3",
       "version_major": 2,
       "version_minor": 0
      },
      "text/plain": [
       "Training: 0it [00:00, ?it/s]"
      ]
     },
     "metadata": {},
     "output_type": "display_data"
    },
    {
     "data": {
      "application/vnd.jupyter.widget-view+json": {
       "model_id": "",
       "version_major": 2,
       "version_minor": 0
      },
      "text/plain": [
       "Validation: 0it [00:00, ?it/s]"
      ]
     },
     "metadata": {},
     "output_type": "display_data"
    },
    {
     "name": "stdout",
     "output_type": "stream",
     "text": [
      "Epoch 0: val_loss=0.0954600331084169\n",
      "Epoch 0: train_loss=0.006726279889768813\n"
     ]
    },
    {
     "data": {
      "application/vnd.jupyter.widget-view+json": {
       "model_id": "",
       "version_major": 2,
       "version_minor": 0
      },
      "text/plain": [
       "Validation: 0it [00:00, ?it/s]"
      ]
     },
     "metadata": {},
     "output_type": "display_data"
    },
    {
     "name": "stdout",
     "output_type": "stream",
     "text": [
      "Epoch 1: val_loss=0.09043643332241555\n",
      "Epoch 1: train_loss=0.006384132026915354\n"
     ]
    },
    {
     "data": {
      "application/vnd.jupyter.widget-view+json": {
       "model_id": "",
       "version_major": 2,
       "version_minor": 0
      },
      "text/plain": [
       "Validation: 0it [00:00, ?it/s]"
      ]
     },
     "metadata": {},
     "output_type": "display_data"
    },
    {
     "name": "stdout",
     "output_type": "stream",
     "text": [
      "Epoch 2: val_loss=0.08962135847253425\n",
      "Epoch 2: train_loss=0.007409601254625728\n"
     ]
    },
    {
     "data": {
      "application/vnd.jupyter.widget-view+json": {
       "model_id": "",
       "version_major": 2,
       "version_minor": 0
      },
      "text/plain": [
       "Validation: 0it [00:00, ?it/s]"
      ]
     },
     "metadata": {},
     "output_type": "display_data"
    },
    {
     "name": "stdout",
     "output_type": "stream",
     "text": [
      "Epoch 3: val_loss=0.08754752017870664\n",
      "Epoch 3: train_loss=0.00716615942822201\n"
     ]
    },
    {
     "data": {
      "application/vnd.jupyter.widget-view+json": {
       "model_id": "",
       "version_major": 2,
       "version_minor": 0
      },
      "text/plain": [
       "Validation: 0it [00:00, ?it/s]"
      ]
     },
     "metadata": {},
     "output_type": "display_data"
    },
    {
     "name": "stdout",
     "output_type": "stream",
     "text": [
      "Epoch 4: val_loss=0.08967046081580143\n",
      "Epoch 4: train_loss=0.00993303981705605\n"
     ]
    },
    {
     "data": {
      "application/vnd.jupyter.widget-view+json": {
       "model_id": "",
       "version_major": 2,
       "version_minor": 0
      },
      "text/plain": [
       "Validation: 0it [00:00, ?it/s]"
      ]
     },
     "metadata": {},
     "output_type": "display_data"
    },
    {
     "name": "stdout",
     "output_type": "stream",
     "text": [
      "Epoch 5: val_loss=0.08737889384307655\n",
      "Epoch 5: train_loss=0.007845415073912027\n"
     ]
    },
    {
     "data": {
      "application/vnd.jupyter.widget-view+json": {
       "model_id": "",
       "version_major": 2,
       "version_minor": 0
      },
      "text/plain": [
       "Validation: 0it [00:00, ?it/s]"
      ]
     },
     "metadata": {},
     "output_type": "display_data"
    },
    {
     "name": "stdout",
     "output_type": "stream",
     "text": [
      "Epoch 6: val_loss=0.0867073853451259\n",
      "Epoch 6: train_loss=0.007560603342291075\n"
     ]
    },
    {
     "data": {
      "application/vnd.jupyter.widget-view+json": {
       "model_id": "",
       "version_major": 2,
       "version_minor": 0
      },
      "text/plain": [
       "Validation: 0it [00:00, ?it/s]"
      ]
     },
     "metadata": {},
     "output_type": "display_data"
    },
    {
     "name": "stdout",
     "output_type": "stream",
     "text": [
      "Epoch 7: val_loss=0.08596866553847188\n",
      "Epoch 7: train_loss=0.005320986210060723\n"
     ]
    },
    {
     "data": {
      "application/vnd.jupyter.widget-view+json": {
       "model_id": "",
       "version_major": 2,
       "version_minor": 0
      },
      "text/plain": [
       "Validation: 0it [00:00, ?it/s]"
      ]
     },
     "metadata": {},
     "output_type": "display_data"
    },
    {
     "name": "stdout",
     "output_type": "stream",
     "text": [
      "Epoch 8: val_loss=0.08671551454719119\n",
      "Epoch 8: train_loss=0.008558804232754897\n"
     ]
    },
    {
     "data": {
      "application/vnd.jupyter.widget-view+json": {
       "model_id": "",
       "version_major": 2,
       "version_minor": 0
      },
      "text/plain": [
       "Validation: 0it [00:00, ?it/s]"
      ]
     },
     "metadata": {},
     "output_type": "display_data"
    },
    {
     "name": "stdout",
     "output_type": "stream",
     "text": [
      "Epoch 9: val_loss=0.08783150488215127\n",
      "Epoch 9: train_loss=0.007630341858632054\n"
     ]
    },
    {
     "data": {
      "application/vnd.jupyter.widget-view+json": {
       "model_id": "",
       "version_major": 2,
       "version_minor": 0
      },
      "text/plain": [
       "Validation: 0it [00:00, ?it/s]"
      ]
     },
     "metadata": {},
     "output_type": "display_data"
    },
    {
     "name": "stdout",
     "output_type": "stream",
     "text": [
      "Epoch 10: val_loss=0.08766521949243873\n",
      "Epoch 10: train_loss=0.007013225654578421\n"
     ]
    },
    {
     "data": {
      "application/vnd.jupyter.widget-view+json": {
       "model_id": "",
       "version_major": 2,
       "version_minor": 0
      },
      "text/plain": [
       "Validation: 0it [00:00, ?it/s]"
      ]
     },
     "metadata": {},
     "output_type": "display_data"
    },
    {
     "name": "stdout",
     "output_type": "stream",
     "text": [
      "Epoch 11: val_loss=0.08536191473441387\n",
      "Epoch 11: train_loss=0.007474193188353019\n"
     ]
    },
    {
     "data": {
      "application/vnd.jupyter.widget-view+json": {
       "model_id": "",
       "version_major": 2,
       "version_minor": 0
      },
      "text/plain": [
       "Validation: 0it [00:00, ?it/s]"
      ]
     },
     "metadata": {},
     "output_type": "display_data"
    },
    {
     "name": "stdout",
     "output_type": "stream",
     "text": [
      "Epoch 12: val_loss=0.08344076529272931\n",
      "Epoch 12: train_loss=0.008617646854055689\n"
     ]
    },
    {
     "data": {
      "application/vnd.jupyter.widget-view+json": {
       "model_id": "",
       "version_major": 2,
       "version_minor": 0
      },
      "text/plain": [
       "Validation: 0it [00:00, ?it/s]"
      ]
     },
     "metadata": {},
     "output_type": "display_data"
    },
    {
     "name": "stdout",
     "output_type": "stream",
     "text": [
      "Epoch 13: val_loss=0.08921001330214602\n",
      "Epoch 13: train_loss=0.007895871862808242\n"
     ]
    },
    {
     "data": {
      "application/vnd.jupyter.widget-view+json": {
       "model_id": "",
       "version_major": 2,
       "version_minor": 0
      },
      "text/plain": [
       "Validation: 0it [00:00, ?it/s]"
      ]
     },
     "metadata": {},
     "output_type": "display_data"
    },
    {
     "name": "stdout",
     "output_type": "stream",
     "text": [
      "Epoch 14: val_loss=0.0858887315339095\n",
      "Epoch 14: train_loss=0.007893826190927556\n"
     ]
    },
    {
     "data": {
      "application/vnd.jupyter.widget-view+json": {
       "model_id": "",
       "version_major": 2,
       "version_minor": 0
      },
      "text/plain": [
       "Validation: 0it [00:00, ?it/s]"
      ]
     },
     "metadata": {},
     "output_type": "display_data"
    },
    {
     "name": "stdout",
     "output_type": "stream",
     "text": [
      "Epoch 15: val_loss=0.08306064225156617\n",
      "Epoch 15: train_loss=0.005601638190364039\n"
     ]
    },
    {
     "data": {
      "application/vnd.jupyter.widget-view+json": {
       "model_id": "",
       "version_major": 2,
       "version_minor": 0
      },
      "text/plain": [
       "Validation: 0it [00:00, ?it/s]"
      ]
     },
     "metadata": {},
     "output_type": "display_data"
    },
    {
     "name": "stdout",
     "output_type": "stream",
     "text": [
      "Epoch 16: val_loss=0.08691064726122033\n",
      "Epoch 16: train_loss=0.0076430338466109285\n"
     ]
    },
    {
     "data": {
      "application/vnd.jupyter.widget-view+json": {
       "model_id": "",
       "version_major": 2,
       "version_minor": 0
      },
      "text/plain": [
       "Validation: 0it [00:00, ?it/s]"
      ]
     },
     "metadata": {},
     "output_type": "display_data"
    },
    {
     "name": "stdout",
     "output_type": "stream",
     "text": [
      "Epoch 17: val_loss=0.08392456211126763\n",
      "Epoch 17: train_loss=0.007225018173710503\n"
     ]
    },
    {
     "data": {
      "application/vnd.jupyter.widget-view+json": {
       "model_id": "",
       "version_major": 2,
       "version_minor": 0
      },
      "text/plain": [
       "Validation: 0it [00:00, ?it/s]"
      ]
     },
     "metadata": {},
     "output_type": "display_data"
    },
    {
     "name": "stdout",
     "output_type": "stream",
     "text": [
      "Epoch 18: val_loss=0.08598664098108454\n",
      "Epoch 18: train_loss=0.008962661887671265\n"
     ]
    },
    {
     "data": {
      "application/vnd.jupyter.widget-view+json": {
       "model_id": "",
       "version_major": 2,
       "version_minor": 0
      },
      "text/plain": [
       "Validation: 0it [00:00, ?it/s]"
      ]
     },
     "metadata": {},
     "output_type": "display_data"
    },
    {
     "name": "stdout",
     "output_type": "stream",
     "text": [
      "Epoch 19: val_loss=0.08593578902389148\n",
      "Epoch 19: train_loss=0.006620298310553996\n"
     ]
    },
    {
     "data": {
      "application/vnd.jupyter.widget-view+json": {
       "model_id": "",
       "version_major": 2,
       "version_minor": 0
      },
      "text/plain": [
       "Validation: 0it [00:00, ?it/s]"
      ]
     },
     "metadata": {},
     "output_type": "display_data"
    },
    {
     "name": "stdout",
     "output_type": "stream",
     "text": [
      "Epoch 20: val_loss=0.08335476779201907\n",
      "Epoch 20: train_loss=0.0063616151322162555\n"
     ]
    },
    {
     "data": {
      "application/vnd.jupyter.widget-view+json": {
       "model_id": "",
       "version_major": 2,
       "version_minor": 0
      },
      "text/plain": [
       "Validation: 0it [00:00, ?it/s]"
      ]
     },
     "metadata": {},
     "output_type": "display_data"
    },
    {
     "name": "stdout",
     "output_type": "stream",
     "text": [
      "Epoch 21: val_loss=0.08752307321728\n",
      "Epoch 21: train_loss=0.00889392553908412\n"
     ]
    },
    {
     "data": {
      "application/vnd.jupyter.widget-view+json": {
       "model_id": "",
       "version_major": 2,
       "version_minor": 0
      },
      "text/plain": [
       "Validation: 0it [00:00, ?it/s]"
      ]
     },
     "metadata": {},
     "output_type": "display_data"
    },
    {
     "name": "stdout",
     "output_type": "stream",
     "text": [
      "Epoch 22: val_loss=0.08312572028411315\n",
      "Epoch 22: train_loss=0.006985305710907395\n"
     ]
    },
    {
     "data": {
      "application/vnd.jupyter.widget-view+json": {
       "model_id": "",
       "version_major": 2,
       "version_minor": 0
      },
      "text/plain": [
       "Validation: 0it [00:00, ?it/s]"
      ]
     },
     "metadata": {},
     "output_type": "display_data"
    },
    {
     "name": "stdout",
     "output_type": "stream",
     "text": [
      "Epoch 23: val_loss=0.08462934424043748\n",
      "Epoch 23: train_loss=0.00788719765113218\n"
     ]
    },
    {
     "data": {
      "application/vnd.jupyter.widget-view+json": {
       "model_id": "",
       "version_major": 2,
       "version_minor": 0
      },
      "text/plain": [
       "Validation: 0it [00:00, ?it/s]"
      ]
     },
     "metadata": {},
     "output_type": "display_data"
    },
    {
     "name": "stdout",
     "output_type": "stream",
     "text": [
      "Epoch 24: val_loss=0.08679834734387198\n",
      "Epoch 24: train_loss=0.005440357870525768\n"
     ]
    },
    {
     "data": {
      "application/vnd.jupyter.widget-view+json": {
       "model_id": "",
       "version_major": 2,
       "version_minor": 0
      },
      "text/plain": [
       "Validation: 0it [00:00, ?it/s]"
      ]
     },
     "metadata": {},
     "output_type": "display_data"
    },
    {
     "name": "stdout",
     "output_type": "stream",
     "text": [
      "Epoch 25: val_loss=0.08470330166459838\n",
      "Epoch 25: train_loss=0.008131103940741463\n"
     ]
    },
    {
     "data": {
      "application/vnd.jupyter.widget-view+json": {
       "model_id": "",
       "version_major": 2,
       "version_minor": 0
      },
      "text/plain": [
       "Validation: 0it [00:00, ?it/s]"
      ]
     },
     "metadata": {},
     "output_type": "display_data"
    },
    {
     "name": "stdout",
     "output_type": "stream",
     "text": [
      "Epoch 26: val_loss=0.08440245152948198\n",
      "Epoch 26: train_loss=0.006932388309571271\n"
     ]
    },
    {
     "data": {
      "application/vnd.jupyter.widget-view+json": {
       "model_id": "",
       "version_major": 2,
       "version_minor": 0
      },
      "text/plain": [
       "Validation: 0it [00:00, ?it/s]"
      ]
     },
     "metadata": {},
     "output_type": "display_data"
    },
    {
     "name": "stdout",
     "output_type": "stream",
     "text": [
      "Epoch 27: val_loss=0.09049422647079051\n",
      "Epoch 27: train_loss=0.007718833508736563\n"
     ]
    },
    {
     "data": {
      "application/vnd.jupyter.widget-view+json": {
       "model_id": "",
       "version_major": 2,
       "version_minor": 0
      },
      "text/plain": [
       "Validation: 0it [00:00, ?it/s]"
      ]
     },
     "metadata": {},
     "output_type": "display_data"
    },
    {
     "name": "stdout",
     "output_type": "stream",
     "text": [
      "Epoch 28: val_loss=0.08455978028245714\n",
      "Epoch 28: train_loss=0.007887253909873538\n"
     ]
    },
    {
     "data": {
      "application/vnd.jupyter.widget-view+json": {
       "model_id": "",
       "version_major": 2,
       "version_minor": 0
      },
      "text/plain": [
       "Validation: 0it [00:00, ?it/s]"
      ]
     },
     "metadata": {},
     "output_type": "display_data"
    },
    {
     "name": "stderr",
     "output_type": "stream",
     "text": [
      "`Trainer.fit` stopped: `max_epochs=30` reached.\n"
     ]
    },
    {
     "name": "stdout",
     "output_type": "stream",
     "text": [
      "Epoch 29: val_loss=0.08516537834586162\n",
      "Epoch 29: train_loss=0.006296331921624384\n"
     ]
    },
    {
     "data": {
      "image/png": "[encoded data removed]",
      "text/plain": [
       "<Figure size 1500x600 with 1 Axes>"
      ]
     },
     "metadata": {},
     "output_type": "display_data"
    }
   ],
   "source": [
    "loss_logging_callback = LossLoggingCallback()\n",
    "\n",
    "'''\n",
    "checkpoint_callback = ModelCheckpoint(\n",
    "    filename='_model_{epoch:02d}',\n",
    "    monitor='val_loss',\n",
    "    save_top_k=-1,\n",
    "    every_n_epochs=5,\n",
    "    dirpath='/darts_logs/_model.pth.tar'# Save every 5 epochs\n",
    ")\n",
    "'''\n",
    "\n",
    "torch_metrics = MetricCollection([MeanAbsolutePercentageError(), MeanAbsoluteError()])\n",
    "\n",
    "model = DLinearModel(\n",
    "    input_chunk_length=90,\n",
    "    output_chunk_length=90,\n",
    "    batch_size=64,\n",
    "    kernel_size=20,\n",
    "    model_name=\"DLinearFineL2021(1)\",\n",
    "    lr_scheduler_kwargs=0.00001,\n",
    "    save_checkpoints=True,\n",
    "    pl_trainer_kwargs = {\n",
    "    \"callbacks\": [loss_logging_callback]},)\n",
    "\n",
    "# After defining the model, proceed with the training as before\n",
    "models = {\n",
    "    \"DLinear\": model,\n",
    "}\n",
    "\n",
    "model.fit(\n",
    "    epochs=30,\n",
    "    series=[train_series],\n",
    "    past_covariates=[ED_covariates],\n",
    "    val_series=[val_series],\n",
    "    val_past_covariates=[ED_covariates]\n",
    "    #past_covariates=[WeekdayTrain, DayoffTrain]\n",
    "    #enable_checkpointing=True,\n",
    ")\n",
    "\n",
    "# Step 3: Plotting the losses after training is completed\n",
    "plt.figure(figsize=(15, 6))\n",
    "\n",
    "# Plot training losses\n",
    "plt.plot(loss_logging_callback.train_losses, label=\"Training Loss\")\n",
    "\n",
    "# Plot validation losses\n",
    "plt.plot(loss_logging_callback.val_losses, label=\"Validation Loss\")\n",
    "\n",
    "plt.title(\"Training and Validation Loss Over Epochs\")\n",
    "plt.xlabel(\"Epoch\")\n",
    "plt.ylabel(\"Loss\")\n",
    "plt.legend()\n",
    "plt.show()"
   ]
  },
  {
   "cell_type": "code",
   "execution_count": 7,
   "id": "1f043f0d",
   "metadata": {},
   "outputs": [],
   "source": [
    "from darts.metrics import mae, mse, mape\n",
    "import matplotlib.pyplot as plt"
   ]
  },
  {
   "cell_type": "code",
   "execution_count": 74,
   "id": "3de7581c",
   "metadata": {
    "scrolled": true
   },
   "outputs": [
    {
     "name": "stderr",
     "output_type": "stream",
     "text": [
      "`predict()` was called with `n > output_chunk_length`: using auto-regression to forecast the values after `output_chunk_length` points. The model will access `(n - output_chunk_length)` future values of your `past_covariates` (relative to the first predicted time step). To hide this warning, set `show_warnings=False`.\n",
      "GPU available: False, used: False\n",
      "TPU available: False, using: 0 TPU cores\n",
      "IPU available: False, using: 0 IPUs\n",
      "HPU available: False, using: 0 HPUs\n"
     ]
    },
    {
     "name": "stdout",
     "output_type": "stream",
     "text": [
      "OrderedDict([('shared_weights', False), ('kernel_size', 20), ('const_init', True), ('use_static_covariates', True), ('input_chunk_length', 90), ('output_chunk_length', 90), ('batch_size', 64), ('model_name', 'DLinearFineL2021(1)'), ('lr_scheduler_kwargs', 1e-05), ('save_checkpoints', True), ('pl_trainer_kwargs', {'callbacks': [<__main__.LossLoggingCallback object at 0x00000147741DC3D0>]})])\n"
     ]
    },
    {
     "data": {
      "application/vnd.jupyter.widget-view+json": {
       "model_id": "b06db91a94484b49afb22c3bb0e9d85a",
       "version_major": 2,
       "version_minor": 0
      },
      "text/plain": [
       "Predicting: 0it [00:00, ?it/s]"
      ]
     },
     "metadata": {},
     "output_type": "display_data"
    },
    {
     "name": "stdout",
     "output_type": "stream",
     "text": [
      "167.3144050005705 39524.34720583469 35.530432434630214\n"
     ]
    }
   ],
   "source": [
    "model = DLinearModel.load_from_checkpoint('DLinearFineL2021(1)')\n",
    "hyperparameters = model.model_params\n",
    "print(hyperparameters)\n",
    "#model_loaded = model.load_weights('darts_logs/NHiTSFine2019(50)/checkpoints/last-epoch=49', load_encoders=False, skip_checks=True)\n",
    "#model_loaded = model.load_weights('darts_logs\\NHiTSFine2019(30)\\checkpoints', load_encoders=False, skip_checks=True)\n",
    "Model_prediction = model.predict(731, series=train_series, past_covariates=ED_covariates\n",
    "                                )\n",
    "# invert scale, 資料格式轉換\n",
    "Model_prediction_df = Model_prediction.pd_dataframe()\n",
    "Model_prediction_df_inverse = scaler.inverse_transform(Model_prediction_df)\n",
    "Model_prediction_df_inverse = pd.DataFrame(Model_prediction_df_inverse,\n",
    "                      index=Model_prediction_df.index,\n",
    "                      columns=Model_prediction_df.columns)\n",
    "\n",
    "# 計算誤差\n",
    "Model_prediction_ts_inverse = TimeSeries.from_dataframe(Model_prediction_df_inverse)\n",
    "Model_mae = mae(test_series_origin, Model_prediction_ts_inverse)\n",
    "Model_mse = mse(test_series_origin, Model_prediction_ts_inverse)\n",
    "Model_mape = mape(test_series_origin, Model_prediction_ts_inverse)\n",
    "\n",
    "print(Model_mae, Model_mse, Model_mape)"
   ]
  },
  {
   "cell_type": "code",
   "execution_count": 75,
   "id": "accf9500",
   "metadata": {},
   "outputs": [
    {
     "data": {
      "image/png": "[encoded data removed]",
      "text/plain": [
       "<Figure size 2500x600 with 1 Axes>"
      ]
     },
     "metadata": {},
     "output_type": "display_data"
    }
   ],
   "source": [
    "series_origin_complete = TimeSeries.from_dataframe(df, value_cols=['No'])\n",
    "\n",
    "Model_prediction_ts_inverse_val, Model_prediction_ts_inverse_test = Model_prediction_ts_inverse.split_before(0.5)\n",
    "\n",
    "# 绘制图表\n",
    "plt.figure(figsize=(25, 6))\n",
    "series_origin_complete.plot(label='Actual')\n",
    "\n",
    "# 使用之前转换和逆缩放后的预测结果\n",
    "Model_prediction_ts_inverse_val.plot(label='val')\n",
    "Model_prediction_ts_inverse_test.plot(label='test')\n",
    "\n",
    "plt.legend()\n",
    "plt.show()"
   ]
  },
  {
   "cell_type": "code",
   "execution_count": 69,
   "id": "4a581f97",
   "metadata": {},
   "outputs": [],
   "source": [
    "Model_prediction_df_inverse.to_csv(path_or_buf='timeseries/TrainingResult/DLineartransfer/Linkou/forecast2022.csv')"
   ]
  },
  {
   "cell_type": "code",
   "execution_count": null,
   "id": "574a0c55",
   "metadata": {},
   "outputs": [],
   "source": []
  }
 ],
 "metadata": {
  "kernelspec": {
   "display_name": "Python 3 (ipykernel)",
   "language": "python",
   "name": "python3"
  },
  "language_info": {
   "codemirror_mode": {
    "name": "ipython",
    "version": 3
   },
   "file_extension": ".py",
   "mimetype": "text/x-python",
   "name": "python",
   "nbconvert_exporter": "python",
   "pygments_lexer": "ipython3",
   "version": "3.11.5"
  }
 },
 "nbformat": 4,
 "nbformat_minor": 5
}
